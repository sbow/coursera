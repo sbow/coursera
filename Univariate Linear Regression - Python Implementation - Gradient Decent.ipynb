{
 "cells": [
  {
   "cell_type": "markdown",
   "metadata": {},
   "source": [
    "## Python Univariate Linear Regression - Gradient Decent\n",
    "#### Adapted from week 1 of Coursera - Machine Learning\n",
    "#### Apr 10 2018"
   ]
  },
  {
   "cell_type": "code",
   "execution_count": 1,
   "metadata": {
    "collapsed": true
   },
   "outputs": [],
   "source": [
    "# Includes\n",
    "import matplotlib\n",
    "import numpy as np\n",
    "import matplotlib.pyplot as plt\n",
    "%matplotlib inline  \n",
    "\n",
    "import math\n",
    "import random\n",
    "import numpy as np"
   ]
  },
  {
   "cell_type": "markdown",
   "metadata": {},
   "source": [
    "### Input Dataset - Training Examples "
   ]
  },
  {
   "cell_type": "code",
   "execution_count": 16,
   "metadata": {},
   "outputs": [
    {
     "data": {
      "image/png": "[encoded data removed]",
      "text/plain": [
       "<matplotlib.figure.Figure at 0x112616550>"
      ]
     },
     "metadata": {},
     "output_type": "display_data"
    }
   ],
   "source": [
    "# Input Dataset - Training Examples \n",
    "# [x_i, y_i] for i in m; m=100 here\n",
    "x = [random.random()*.5 + i for i in np.arange(100)]\n",
    "m_orig = 15\n",
    "b_orig = 69\n",
    "y = [i*(m_orig + random.random()*4 - 2) + b_orig + random.random()*400 for i in x]\n",
    "plt.plot(x,y, 'bo')\n",
    "plt.title('Dataset - x and y')\n",
    "plt.show()"
   ]
  },
  {
   "cell_type": "markdown",
   "metadata": {},
   "source": [
    "### Hypothesis Function\n",
    "Find a model for the training data of the following form:\n",
    "\n",
    "\n",
    "$\n",
    "h_\\theta(x^{(i)}) = \\theta_0 + \\theta_1x^{(i)} \\Longleftarrow $1st degree polynomial (line) hypothesis function\n",
    "\n",
    "$\\theta_0, \\theta_1$ are unknown & will be found using standard cost function $J(\\theta_0, \\theta_1)$ & gradient descent\n"
   ]
  },
  {
   "cell_type": "markdown",
   "metadata": {},
   "source": [
    "### Cost Function\n",
    "$J(\\theta_0, \\theta_1) = \\dfrac {1}{2m} \\displaystyle \\sum _{i=1}^m \\left ( \\hat{y}_{i}- y_{i} \\right)^2 = \\dfrac {1}{2m} \\displaystyle \\sum _{i=1}^m \\left (h_\\theta (x_{i}) - y_{i} \\right)^2 \\Longleftarrow$ sum of the squared difference between hypothesis function and training y_i\n",
    "\n",
    "##### Objective:\n",
    "find $\\theta_0, \\theta_1$ that minimize $J(\\theta_0, \\theta_1)$ with the smallest $\\theta_0, \\theta_1$\n",
    "##### Method - Gradient Decent\n",
    "Note: form of $J(\\theta_0, \\theta_1)$ is parabolic; therefore minimum value can be found using an algorithm that heads towards the \"bottom\" of $J(\\theta_0, \\theta_1)$.\n",
    "\n",
    "Implemented as follows, repeat until convergence (for $j=0$ and $j=1$):\n",
    "\n",
    "$\\theta_j := \\theta_j - \\alpha\\frac{\\partial}{\\partial \\theta_j}J(\\theta_0,\\theta_1)\n",
    "$\n",
    "\n",
    "Simulaneous update ie don't update $\\theta_0$ before solving for $\\theta_1$:\n",
    "\n",
    "temp0$:= \\theta_0 - \\alpha\\frac{\\partial}{\\partial \\theta_0}J(\\theta_0,\\theta_1)$\n",
    "\n",
    "temp1$:= \\theta_1 - \\alpha\\frac{\\partial}{\\partial \\theta_1}J(\\theta_0,\\theta_1)$\n",
    "\n",
    "$\\theta_0 :=$ temp0\n",
    "\n",
    "$\\theta_1 :=$ temp1\n",
    "\n",
    "#### Solving for partial derivative\n",
    "$\\frac{\\partial}{\\partial \\theta_j}J(\\theta_0,\\theta_1) = \\frac{\\partial}{\\partial \\theta_j}*\\frac{1}{2m}\\sum_{i=1}^{m}(h_\\theta(x^{(i)})-y{(i)})^2$ where $h_\\theta(x^{(i)}) = \\theta_0 + \\theta_1x^{(i)}$"
   ]
  },
  {
   "cell_type": "code",
   "execution_count": null,
   "metadata": {
    "collapsed": true
   },
   "outputs": [],
   "source": []
  }
 ],
 "metadata": {
  "kernelspec": {
   "display_name": "Python 2",
   "language": "python",
   "name": "python2"
  },
  "language_info": {
   "codemirror_mode": {
    "name": "ipython",
    "version": 2
   },
   "file_extension": ".py",
   "mimetype": "text/x-python",
   "name": "python",
   "nbconvert_exporter": "python",
   "pygments_lexer": "ipython2",
   "version": "2.7.14"
  }
 },
 "nbformat": 4,
 "nbformat_minor": 2
}
